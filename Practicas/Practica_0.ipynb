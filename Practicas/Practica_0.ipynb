{
 "cells": [
  {
   "cell_type": "markdown",
   "id": "portada",
   "metadata": {},
   "source": [
    "# **UNIVERSIDAD NACIONAL AUTÓNOMA DE MÉXICO**  \n",
    "# **FACULTAD DE INGENIERÍA**\n",
    "\n",
    "---\n",
    "\n",
    "## **PRÁCTICA 0: NODOS Y TÓPICOS EN ROS 2**\n",
    "\n",
    "**Alumno:** José Luis Raya Cruz  \n",
    "**Grupo:** 1  \n",
    "**Profesor:** M.I. Erik Peña Medina  \n",
    "**Fecha de entrega:** 10 de octubre de 2025"
   ]
  },
  {
   "cell_type": "markdown",
   "id": "objetivo",
   "metadata": {},
   "source": [
    "## OBJETIVO\n",
    "\n",
    "Esta práctica busca que los estudiantes adquieran un entendimiento sólido sobre el funcionamiento de Nodos y Tópicos en ROS 2, poniendo en práctica estos conceptos mediante el desarrollo de un paquete utilizando Python como lenguaje de programación."
   ]
  },
  {
   "cell_type": "markdown",
   "id": "rubrica",
   "metadata": {},
   "source": [
    "## RÚBRICA DE EVALUACIÓN\n",
    "\n",
    "### PREVIO DE LA PRÁCTICA 0\n",
    "\n",
    "En el contexto de ROS 2, un **Nodo** representa una unidad fundamental de procesamiento que ejecuta una tarea específica dentro de un sistema robótico. Cada nodo opera como un proceso autónomo capaz de establecer comunicación con otros nodos a través de diferentes mecanismos como tópicos, servicios o acciones.\n",
    "\n",
    "Por otro lado, los **Tópicos** funcionan como canales de comunicación que permiten el intercambio de información de manera asíncrona entre nodos. Estos implementan el modelo publicador-suscriptor, donde ciertos nodos envían mensajes a un tópico específico mientras que otros se suscriben para recibir dichos mensajes, logrando así una arquitectura desacoplada.\n",
    "\n",
    "La organización típica de un paquete en ROS 2 sigue esta estructura de directorios:\n",
    "\n",
    "```\n",
    "ROS2Dev/\n",
    "└── ws_new/\n",
    "    └── src/\n",
    "        └── conversion_rpm/\n",
    "            ├── package.xml\n",
    "            ├── setup.py\n",
    "            ├── setup.cfg\n",
    "            ├── resource/\n",
    "            │   └── conversion_rpm\n",
    "            └── conversion_rpm/\n",
    "                ├── __init__.py\n",
    "                ├── rpm_publisher.py\n",
    "                └── rpm_to_rads.py\n",
    "```\n",
    "\n",
    "Para la comunicación entre nodos, ROS 2 ofrece tres tipos de interfaces principales:\n",
    "\n",
    "- **Mensajes (Messages):** Facilitan la comunicación unidireccional y asíncrona por medio de tópicos.\n",
    "- **Servicios (Services):** Hacen posible la comunicación síncrona siguiendo el patrón de solicitud-respuesta.\n",
    "- **Acciones (Actions):** Proporcionan comunicación asíncrona con mecanismos de retroalimentación, lo que las hace perfectas para tareas que se extienden en el tiempo."
   ]
  },
  {
   "cell_type": "markdown",
   "id": "desarrollo",
   "metadata": {},
   "source": [
    "### DESARROLLO DE LA PRÁCTICA\n",
    "\n",
    "La primera fase de esta práctica que se realizó en la clase, la cual se definió por el espacio de trabajo y la estructura básica del paquete, apoyándonos como modelo la metodología expuesta en el repositorio oficial de la materia [1].\n",
    "\n",
    "Se hicieron dos nodos particulares en la segunda etapa:\n",
    "\n",
    "La tarea del primer nodo, llamada `rpm_publisher.py`, consiste en producir valores de RPM que siguen un patrón senoidal y fluctúan entre 50 y 150 RPM a una frecuencia de 0.5 Hz. Este nodo, usa el tipo de mensaje `std_msgs/Float32`, hace publicaciones en el tópico `/rpm` cada 1.5 segundos.\n",
    "\n",
    "El segundo nodo, conocido como `rpm_to_rads.py`, funciona al mismo tiempo como publicador en el tópico `/rads` y como suscriptor del tópico `/rpm`. Su función principal es tomar los valores de RPM, realizar la conversión adecuada a radianes por segundo utilizando la relación matemática `rad/s = RPM × (2π/60)` y publicar el resultado convertido.\n",
    "\n",
    "Los siguientes comandos se llevaron a cabo de manera secuencial para activar todo el sistema:\n",
    "\n",
    "```bash\n",
    "cd ~/ROS2Dev/ws_new/src\n",
    "ros2 pkg create --build-type ament_python conversion_rpm\n",
    "cd conversion_rpm/conversion_rpm\n",
    "nano rpm_publisher.py\n",
    "nano rpm_to_rads.py\n",
    "chmod +x rpm_publisher.py\n",
    "chmod +x rpm_to_rads.py\n",
    "cd ~/ROS2Dev/ws_new\n",
    "colcon build --packages-select conversion_rpm\n",
    "source install/setup.bash\n",
    "ros2 run conversion_rpm rpm_to_rads_converter\n",
    "ros2 run conversion_rpm rpm_publisher\n",
    "```"
   ]
  },
  {
   "cell_type": "markdown",
   "id": "resultados",
   "metadata": {},
   "source": [
    "### RESULTADOS\n",
    "\n",
    "Como evidencia del correcto funcionamiento del sistema implementado, se capturó un video demostrativo que muestra la comunicación en tiempo real entre el publicador de RPM y el conversor a radianes por segundo.\n",
    "\n",
    "Demostración del sistema de conversión RPM a rad/s en ROS 2\n",
    "\n",
    "[![Sistema de conversión RPM a rad/s en ROS 2](https://img.youtube.com/vi/RmCXuKFdFOw/mqdefault.jpg)](https://youtu.be/RmCXuKFdFOw)\n",
    "\n",
    "**Video 1.** Ejecución del sistema completo mostrando el flujo de datos entre nodos y la conversión en tiempo real de RPM a radianes por segundo.\n",
    "\n",
    "La presencia de los dos tópicos activos (`/rpm` y `/rads`), así como la correcta ejecución de ambos nodos (`/rpm_publisher` y `/rpm_to_rads_converter`), fue confirmada por medio de comandos de ROS 2.\n",
    "\n",
    "Un caso específico del procedimiento de conversión se puede observar cuando el sistema recibe un valor de 125.43 RPM y produce, siguiendo la fórmula de conversión `rad/s = RPM × (2 × π ÷ 60)`, un resultado de 13.14 rad/s."
   ]
  },
  {
   "cell_type": "markdown",
   "id": "conclusiones",
   "metadata": {},
   "source": [
    "### CONCLUSIONES\n",
    "\n",
    "El trabajo que se hizo en este ejercicio permitió entender a fondo cómo los nodos se comunican entre sí en ROS 2. El patrón publicador-suscriptor en acción se evidenció de manera concreta al poner en marcha un sistema que consiste en dos nodos que se comunican entre sí mediante tópicos.\n",
    "\n",
    "El ajuste del intervalo de publicación a 1.5 segundos fue especialmente beneficioso para analizar con más precisión la dinámica del sistema y el flujo de datos entre sus componentes. Este cambio posibilitó una mejor comprensión de cómo el segundo nodo captura y convierte los valores de RPM creados por el primer nodo en radianes por segundo.\n",
    "\n",
    "La experiencia obtenida fortalece la idea de arquitectura modular en ROS 2 y su importancia en aplicaciones ingenieriles reales, especialmente en situaciones donde es necesario controlar la velocidad en los sistemas mecatrónicos. Los saberes adquiridos coinciden directamente con el propósito establecido al principio, lo que confirma el conocimiento de los conceptos esenciales de nodos y tópicos en el ecosistema de ROS 2."
   ]
  },
  {
   "cell_type": "markdown",
   "id": "bibliografia",
   "metadata": {},
   "source": [
    "### BIBLIOGRAFÍA\n",
    "\n",
    "[1] E. Peña Medina and V. J. González Villela, \"Repositorio oficial de Robótica 2026-1: nodes_topics_py,\" UNAM-FI, 2025. [Online]. Available: https://github.com/arrg-mx/robotica_2026-1/tree/main/nodes_topics_py\n",
    "\n",
    "[2] Open Robotics, \"ROS 2 Documentation: Understanding ROS 2 Topics,\" 2023. [Online]. Available: https://docs.ros.org/en/humble/Tutorials/Beginner-CLI-Tools/Understanding-ROS2-Topics/Understanding-ROS2-Topics.html\n",
    "\n",
    "[3] E. Peña Medina, \"Tutorial de Nodos y Tópicos en ROS 2,\" YouTube, 2023. [Online]. Available: https://youtu.be/PBtGcoQul6w\n",
    "\n",
    "[4] E. Peña Medina, \"ROS 2 Publisher and Subscriber Tutorial,\" YouTube, 2023. [Online]. Available: https://youtu.be/gdZV_0blQCY"
   ]
  }
 ],
 "metadata": {
  "kernelspec": {
   "display_name": "Python 3",
   "language": "python",
   "name": "python3"
  },
  "language_info": {
   "codemirror_mode": {
    "name": "ipython",
    "version": 3
   },
   "file_extension": ".py",
   "mimetype": "text/x-python",
   "name": "python",
   "nbconvert_exporter": "python",
   "pygments_lexer": "ipython3",
   "version": "3.10.12"
  }
 },
 "nbformat": 4,
 "nbformat_minor": 5
}
