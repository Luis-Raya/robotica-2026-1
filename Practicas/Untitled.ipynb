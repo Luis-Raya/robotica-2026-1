{
 "cells": [
  {
   "cell_type": "code",
   "execution_count": null,
   "id": "20928f91-fae0-40e6-b9b2-c2396b1c30cc",
   "metadata": {},
   "outputs": [],
   "source": []
  },
  {
   "cell_type": "code",
   "execution_count": null,
   "id": "7afc99c8-4b98-466f-a0c0-237f5414bcb8",
   "metadata": {},
   "outputs": [],
   "source": []
  }
 ],
 "metadata": {
  "kernelspec": {
   "display_name": "",
   "name": ""
  },
  "language_info": {
   "name": ""
  }
 },
 "nbformat": 4,
 "nbformat_minor": 5
}
